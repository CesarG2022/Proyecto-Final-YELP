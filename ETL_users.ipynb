{
  "nbformat": 4,
  "nbformat_minor": 0,
  "metadata": {
    "colab": {
      "provenance": [],
      "mount_file_id": "1gN6GNT94fkI507Ctjuq2S4yW-pntHC-a",
      "authorship_tag": "ABX9TyOcBKJAaM7f7MdJfnX0Qkod",
      "include_colab_link": true
    },
    "kernelspec": {
      "name": "python3",
      "display_name": "Python 3"
    },
    "language_info": {
      "name": "python"
    }
  },
  "cells": [
    {
      "cell_type": "markdown",
      "metadata": {
        "id": "view-in-github",
        "colab_type": "text"
      },
      "source": [
        "<a href=\"https://colab.research.google.com/github/khorneflakes-dev/Proyecto-Final-YELP/blob/main/ETL_users.ipynb\" target=\"_parent\"><img src=\"https://colab.research.google.com/assets/colab-badge.svg\" alt=\"Open In Colab\"/></a>"
      ]
    },
    {
      "cell_type": "code",
      "source": [
        "#descomprime el zip con los datasets de yelp\n",
        "from zipfile import ZipFile \n",
        "with ZipFile('drive/MyDrive/Copia de Dataset Yelp.zip', 'r') as zipObj:\n",
        "  zipObj.extractall('drive/MyDrive/yelp')"
      ],
      "metadata": {
        "id": "PmkLjnTnqvOJ"
      },
      "execution_count": 1,
      "outputs": []
    },
    {
      "cell_type": "code",
      "execution_count": 2,
      "metadata": {
        "id": "PysHorC99Gqo"
      },
      "outputs": [],
      "source": [
        "import pandas as pd\n",
        "pd.options.display.max_columns = None # para mostrar todas las columnas de los dataframes\n",
        "import numpy as np\n"
      ]
    },
    {
      "cell_type": "markdown",
      "source": [
        "## obtaining integer user codes ¡suprimible!"
      ],
      "metadata": {
        "id": "ErdiJrpZw5-L"
      }
    },
    {
      "cell_type": "code",
      "source": [
        "users = pd.read_json(\"drive/MyDrive/yelp/Dataset Yelp/user.json\", lines=True , chunksize=200000) #lee user.json\n",
        "cods_users = pd.concat(users).user_id\n",
        "cods_users = cods_users.reset_index()\n",
        "cods_users.info()"
      ],
      "metadata": {
        "id": "-kGxyR12bvxd"
      },
      "execution_count": null,
      "outputs": []
    },
    {
      "cell_type": "code",
      "source": [
        "cods_users.index.duplicated().sum()\n",
        "cods_users.user_id.duplicated().sum()"
      ],
      "metadata": {
        "id": "HFruo6ErdsW0"
      },
      "execution_count": null,
      "outputs": []
    },
    {
      "cell_type": "code",
      "source": [
        "cods_users = cods_users.rename(columns={'index':'n_user_id'})"
      ],
      "metadata": {
        "id": "XazRfCI2hhB9"
      },
      "execution_count": null,
      "outputs": []
    },
    {
      "cell_type": "code",
      "source": [
        "cods_users.to_csv('drive/MyDrive/yelp/codes_users', index=False)"
      ],
      "metadata": {
        "id": "I_LoH_kQikXF"
      },
      "execution_count": null,
      "outputs": []
    },
    {
      "cell_type": "code",
      "source": [
        "del cods_users"
      ],
      "metadata": {
        "id": "xHpfEoTTlJSF"
      },
      "execution_count": null,
      "outputs": []
    },
    {
      "cell_type": "markdown",
      "source": [
        "## user.json ETL"
      ],
      "metadata": {
        "id": "USOhYFalgPjs"
      }
    },
    {
      "cell_type": "code",
      "source": [
        "users = pd.read_json(\"drive/MyDrive/yelp/Dataset Yelp/user.json\", lines=True , chunksize=400000) # definition of the iterator reader object"
      ],
      "metadata": {
        "id": "L9tRDE4ZQhH7"
      },
      "execution_count": 3,
      "outputs": []
    },
    {
      "cell_type": "code",
      "source": [
        "col_to_drop=['name','elite','compliment_hot','compliment_more', 'compliment_profile', 'compliment_cute', 'compliment_list', 'compliment_note', 'compliment_plain',\n",
        "'compliment_cool', 'compliment_funny', 'compliment_writer','compliment_photos'] # droppable columns list\n",
        "data_types={'average_stars':'uint8' , 'fans':'uint16', 'review_count':'uint16', 'cool':'uint32', 'useful':'uint32', 'funny':'uint32'} # data types dict for some columns\n",
        "\n",
        "chunks=[] # define empty list for chunks\n",
        "for chunk in users:  #iterate over the reader object users\n",
        "  iter_chunk = chunk.drop(columns=col_to_drop).astype(data_types) # drop columns listed in col_to_drop from every chunk and change the data types according to data_types dict\n",
        "  chunks.append(iter_chunk)  # append modified chunks into the chunks list\n",
        "  \n",
        "  \n"
      ],
      "metadata": {
        "id": "af-VEvSVkVe9"
      },
      "execution_count": 4,
      "outputs": []
    },
    {
      "cell_type": "code",
      "source": [
        "users = pd.concat(chunks) # concatenate all the chunks in the chunks list to create users dataframe"
      ],
      "metadata": {
        "id": "39sbPWSeGl6M"
      },
      "execution_count": 5,
      "outputs": []
    },
    {
      "cell_type": "code",
      "source": [
        "users.yelping_since = pd.to_datetime(users.yelping_since, format='%Y-%m-%d %H:%M:%S') # change column 'yelping_since' to datetime"
      ],
      "metadata": {
        "id": "PM5GhTmdMiwU"
      },
      "execution_count": 6,
      "outputs": []
    },
    {
      "cell_type": "code",
      "source": [
        "del chunks\n",
        "del chunk\n",
        "del iter_chunk"
      ],
      "metadata": {
        "id": "_aYtUXK-MDoL"
      },
      "execution_count": 7,
      "outputs": []
    },
    {
      "cell_type": "code",
      "source": [
        "users = users.reset_index() # create a new column with integers from the index values, this new columns is named automatically as 'index'"
      ],
      "metadata": {
        "id": "rcaD7W2VI8nr"
      },
      "execution_count": 8,
      "outputs": []
    },
    {
      "cell_type": "code",
      "source": [
        "users = users.rename(columns={'index':'n_user_id'}) # rename the recently created column of integers as n_user_id\n",
        "users = users.astype({'n_user_id':'uint32'}) # change the type of column n_user_id to uint32"
      ],
      "metadata": {
        "id": "KV6dBbZtMk8c"
      },
      "execution_count": 9,
      "outputs": []
    },
    {
      "cell_type": "code",
      "source": [
        "users.info()"
      ],
      "metadata": {
        "colab": {
          "base_uri": "https://localhost:8080/"
        },
        "id": "WjO_ngFhLw7c",
        "outputId": "ebb4d1a2-9842-4a24-f887-d2f974d49a50"
      },
      "execution_count": 13,
      "outputs": [
        {
          "output_type": "execute_result",
          "data": {
            "text/plain": [
              "Index(['n_user_id', 'user_id', 'review_count', 'yelping_since', 'useful',\n",
              "       'funny', 'cool', 'friends', 'fans', 'average_stars'],\n",
              "      dtype='object')"
            ]
          },
          "metadata": {},
          "execution_count": 13
        }
      ]
    },
    {
      "cell_type": "markdown",
      "source": [
        "# Nueva sección"
      ],
      "metadata": {
        "id": "sskDioat_Bcz"
      }
    }
  ]
}