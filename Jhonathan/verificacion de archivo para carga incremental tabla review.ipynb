{
 "cells": [
  {
   "cell_type": "markdown",
   "metadata": {},
   "source": [
    "Verificacion de archivo para carga incremental de la tabla review\n",
    "\n",
    "Preparacion para prueba:\n",
    "Se utilizara el archivo 'review.json' para sacar tres conjuntos de dataset:\n",
    "    1. 'reviews_inicial.json'     , Archivo con la mayoria de la data chunk 14/17     \n",
    "    2. 'reviews_incremental.json' , Archivo con datos en perfecto estado chunk 2/17\n",
    "    3. 'reviews_incremental_con_fallas_columnas.json', Archivo .json con columnas aleatorio\n",
    "    4. 'reviews_incremental_con fallas_formato_datos.json', Archivo .json con columnas que coinciden \n",
    "        con 'reviews_inicial.json' pero su contenido no.\n",
    "    5. 'reviews_incremental_con_repeticiones.json' , archivo con datos chunk 1/17 y con datos \n",
    "        repetidos de chunks anteriores.\n",
    "nota: no es necesario tomar en cuenta la fecha del review para clasificar\n",
    "los datos, es preferible datos aleatorios, los chunks que se crean \n",
    "cuando se crea  'reviews_inicial.parquet.gzip'\n",
    "\n",
    "Procedimiento de verificacion (Bussnes Rules):\n",
    "Al introducir un nuevo archivo .json se verifica en formato:\n",
    "    1. cantidad de columnas\n",
    "    2. nombre de columnas\n",
    "    3. formato de datos en columnas\n",
    "Si cumple con formato se verifica contenido, se trabaja con los codigos alfanumericos \n",
    "del nuevo dato/review review_id,user_id y business_id:\n",
    "\n",
    "    4. tabla 'idreview[id_review(int),review_id(tex)]';\n",
    "        4.1. si el review_id ya existen en tabla base \n",
    "            se descarta el dato/review nuevo\n",
    "        4.2. de lo contrario\n",
    "            se revisan los puntos 5.1 y 6.1\n",
    "            se incorpora el nuevo review a la tabla reviews y a la tabla idreviews\n",
    "\n",
    "    5. tabla idusers[id_user(int),user_id(tex)], \n",
    "        5.1 si el user_id NO esta en la tabla 'idusers' \n",
    "            Se descarta dato/review nuevo\n",
    "    nota: un procedimento mas correcto seria, agrega el nuevo user a la tabla 'users' para lo cual se necesitarian los datos [review_count, yelping_since, .... average_stars], al actualizar esa data automatiacamente se actualiza la tabla 'idusers' y despues se procede con el punto 4.2\n",
    "\n",
    "\n",
    "    6. tabla 'idbusiness[id_business(int),business_id(tex)], \n",
    "        6.1 si el business_id del nuevo data/review NO esta en la tabla 'idbusiness'\n",
    "            Se descarta dato/review nuevo\n",
    "    nota: un procedimento mas correcto seria, agrega el nuevo busines a la tabla 'business' para lo cual se necesitarian los datos [name, address, .... categories_id], adicionalmente se debe verifiar su categoria,\n",
    "    si coincide con las categorias a usar se agrega a la tabla  'business', y automaticamente actualizar las tablas 'idbusiness', 'business_attributes', 'business_categories', 'business_city_state', 'business_hours' para luego proceder con el punto 4.2\n",
    "\n",
    "\n",
    "Reqerimientos:\n",
    "    1. Se requiere acceder a la tabla idreviews \n",
    "    2. Se requiere  acceder a la tabla idbussines \n",
    "    3. Se requiere  acceder a la tabla idusers\n",
    "\n",
    "\n",
    " "
   ]
  },
  {
   "cell_type": "code",
   "execution_count": null,
   "metadata": {},
   "outputs": [],
   "source": [
    "#Creacion de datos de prueba\n",
    "path_incial = 'C:\\\\Github\\\\DataSet_YELP\\\\'\n",
    "path_final = 'C:\\\\Github\\\\DataSet_YELP\\\\pruebas_incremental\\\\'\n"
   ]
  }
 ],
 "metadata": {
  "kernelspec": {
   "display_name": "Python 3.9.8 64-bit",
   "language": "python",
   "name": "python3"
  },
  "language_info": {
   "name": "python",
   "version": "3.9.8"
  },
  "orig_nbformat": 4,
  "vscode": {
   "interpreter": {
    "hash": "78a5f5e9430e63759269e8e709c4002b1ad533978ca32d2fcf985e534411cec9"
   }
  }
 },
 "nbformat": 4,
 "nbformat_minor": 2
}
