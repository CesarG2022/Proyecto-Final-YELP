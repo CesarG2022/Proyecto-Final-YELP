{
 "cells": [
  {
   "cell_type": "markdown",
   "metadata": {},
   "source": [
    "Carga de tablas en MySQL"
   ]
  },
  {
   "cell_type": "code",
   "execution_count": 1,
   "metadata": {},
   "outputs": [],
   "source": [
    "#Librerias a utilizar\n",
    "import pandas as pd \n",
    "pd.options.display.max_columns = None # para mostrar todas las columnas de los dataframes\n",
    "from IPython.display import clear_output\n",
    "import os \n",
    "import pymysql"
   ]
  },
  {
   "cell_type": "code",
   "execution_count": 2,
   "metadata": {},
   "outputs": [],
   "source": [
    "conexion = pymysql.connect(\n",
    "   #host = '177.226.145.197',\n",
    "   host = '34.176.218.33',\n",
    "   user = 'root',\n",
    "   passwd='projectyelp2022',\n",
    "   db='prueba'\n",
    ")\n",
    "cursor = conexion.cursor()"
   ]
  },
  {
   "cell_type": "code",
   "execution_count": 3,
   "metadata": {},
   "outputs": [
    {
     "name": "stdout",
     "output_type": "stream",
     "text": [
      "(0, 'xxxxx', 'Greek Salad', 5, 30, 21, 3, 3, 'Web', 'No')\n",
      "(1, 'yyyyy', 'Philly Cheese Steak', 1, 20, 20, 3, 4, 'App', 'No')\n",
      "(2, 'zzzzz', 'Turkey Burger', 2, 16, 4, 3, 2, 'App', 'No')\n",
      "(3, 'aaaaa', 'Crispy Orange Chicken', 2, 23, 11, 2, 1, 'App', 'No')\n",
      "(4, 'bbbbb', 'Atlantic Salmon', 7, 20, 7, 3, 3, 'Web', 'Yes')\n"
     ]
    }
   ],
   "source": [
    "cursor.execute(\"select * from UserVitals limit 5;\")\n",
    "\n",
    "Resultado = cursor.fetchall()\n",
    "#alumnos = cursor.fetchmany(5)\n",
    "for items in Resultado:\n",
    "   print(items)"
   ]
  }
 ],
 "metadata": {
  "kernelspec": {
   "display_name": "Python 3.9.8 64-bit",
   "language": "python",
   "name": "python3"
  },
  "language_info": {
   "codemirror_mode": {
    "name": "ipython",
    "version": 3
   },
   "file_extension": ".py",
   "mimetype": "text/x-python",
   "name": "python",
   "nbconvert_exporter": "python",
   "pygments_lexer": "ipython3",
   "version": "3.9.8"
  },
  "orig_nbformat": 4,
  "vscode": {
   "interpreter": {
    "hash": "78a5f5e9430e63759269e8e709c4002b1ad533978ca32d2fcf985e534411cec9"
   }
  }
 },
 "nbformat": 4,
 "nbformat_minor": 2
}
