{
  "nbformat": 4,
  "nbformat_minor": 0,
  "metadata": {
    "colab": {
      "provenance": [],
      "mount_file_id": "1hM6ZykQVdkjwfDOnZeeynaP-FpofO-IY",
      "authorship_tag": "ABX9TyN3tZHvb1S1oyP1YdrCA0OH",
      "include_colab_link": true
    },
    "kernelspec": {
      "name": "python3",
      "display_name": "Python 3"
    },
    "language_info": {
      "name": "python"
    }
  },
  "cells": [
    {
      "cell_type": "markdown",
      "metadata": {
        "id": "view-in-github",
        "colab_type": "text"
      },
      "source": [
        "<a href=\"https://colab.research.google.com/github/khorneflakes-dev/Proyecto-Final-YELP/blob/main/review_final.ipynb\" target=\"_parent\"><img src=\"https://colab.research.google.com/assets/colab-badge.svg\" alt=\"Open In Colab\"/></a>"
      ]
    },
    {
      "cell_type": "code",
      "source": [
        "import pandas as pd"
      ],
      "metadata": {
        "id": "-AhSxDnj2yXu"
      },
      "execution_count": 1,
      "outputs": []
    },
    {
      "cell_type": "code",
      "source": [
        "df_business_id = pd.read_csv('/content/drive/MyDrive/output/business_index.csv')\n",
        "df_business_id.columns = ['id_business', 'business_id']\n",
        "df_user_id = pd.read_parquet('/content/drive/MyDrive/codes_users.parquet.gzip')"
      ],
      "metadata": {
        "id": "7_VGDzmq-pks"
      },
      "execution_count": 2,
      "outputs": []
    },
    {
      "cell_type": "code",
      "source": [
        "path = '/content/drive/MyDrive/test/Dataset Yelp/review.json'"
      ],
      "metadata": {
        "id": "923RGefo4cAa"
      },
      "execution_count": 3,
      "outputs": []
    },
    {
      "cell_type": "code",
      "source": [
        "main_chunk = pd.read_json(path, lines=True, chunksize=1000000)"
      ],
      "metadata": {
        "id": "MGhWoGyD4Wv9"
      },
      "execution_count": 4,
      "outputs": []
    },
    {
      "cell_type": "markdown",
      "source": [
        "funcion para pasar al chunk"
      ],
      "metadata": {
        "id": "mzt0YDG1Fcwv"
      }
    },
    {
      "cell_type": "code",
      "source": [
        "def review_etl(df):\n",
        "  df.drop(['text'], axis=1, inplace=True)\n",
        "  df_aux = pd.merge(df, df_business_id, left_on='business_id', right_on='business_id', how='inner')\n",
        "  df_aux.drop(['business_id'], axis=1, inplace=True)\n",
        "  df_aux['id_review'] = df_aux.index\n",
        "  df_aux.drop(['review_id'], axis=1, inplace=True)\n",
        "\n",
        "  df_aux2 = pd.merge(df_aux, df_user_id, left_on='user_id', right_on='user_id', how='inner')\n",
        "  df_aux2.drop(['user_id'], axis=1, inplace=True)\n",
        "  df_aux2.drop(['useful','funny','cool'], axis=1, inplace=True)\n",
        "  df_aux2 = df_aux2.rename(columns={\"n_user_id\": \"id_user\"})\n",
        "  return df_aux2"
      ],
      "metadata": {
        "id": "_uaUhTB848Qv"
      },
      "execution_count": 5,
      "outputs": []
    },
    {
      "cell_type": "code",
      "source": [
        "chunk_list = []"
      ],
      "metadata": {
        "id": "Hihow7yfGc7H"
      },
      "execution_count": 6,
      "outputs": []
    },
    {
      "cell_type": "code",
      "source": [
        "len(chunk_list)"
      ],
      "metadata": {
        "id": "DCk4s27bFx57",
        "outputId": "9fd79cbc-a352-45a2-aa7c-ff7fc7c0b1aa",
        "colab": {
          "base_uri": "https://localhost:8080/"
        }
      },
      "execution_count": 7,
      "outputs": [
        {
          "output_type": "execute_result",
          "data": {
            "text/plain": [
              "0"
            ]
          },
          "metadata": {},
          "execution_count": 7
        }
      ]
    },
    {
      "cell_type": "code",
      "source": [
        "for chunk in main_chunk:\n",
        "  chunk_list.append(review_etl(chunk))\n",
        "  print('hi')"
      ],
      "metadata": {
        "id": "l1vD60RLGmuh",
        "colab": {
          "base_uri": "https://localhost:8080/"
        },
        "outputId": "c0fde13a-3524-4f54-ed3f-4416e268456d"
      },
      "execution_count": 8,
      "outputs": [
        {
          "output_type": "stream",
          "name": "stdout",
          "text": [
            "hi\n",
            "hi\n",
            "hi\n",
            "hi\n",
            "hi\n",
            "hi\n",
            "hi\n"
          ]
        }
      ]
    },
    {
      "cell_type": "code",
      "source": [
        "len(chunk_list)"
      ],
      "metadata": {
        "colab": {
          "base_uri": "https://localhost:8080/"
        },
        "id": "Pg8KoWbRlWPT",
        "outputId": "c391cfc5-32f4-45bc-c3b1-bfb9a4361910"
      },
      "execution_count": 17,
      "outputs": [
        {
          "output_type": "execute_result",
          "data": {
            "text/plain": [
              "7"
            ]
          },
          "metadata": {},
          "execution_count": 17
        }
      ]
    },
    {
      "cell_type": "code",
      "source": [
        "df_final = pd.concat(chunk_list)"
      ],
      "metadata": {
        "id": "f56b-ZVfF1jj"
      },
      "execution_count": 9,
      "outputs": []
    },
    {
      "cell_type": "code",
      "source": [
        "df_final = df_final[['id_review','id_user','id_business','stars','date']]"
      ],
      "metadata": {
        "id": "vJXPQS22KcBi"
      },
      "execution_count": 10,
      "outputs": []
    },
    {
      "cell_type": "code",
      "source": [
        "df_final['date']= pd.to_datetime(df_final['date'])\n",
        "df_final['year'] = df_final['date'].dt.year"
      ],
      "metadata": {
        "id": "ERXyFzc2_y2B"
      },
      "execution_count": 11,
      "outputs": []
    },
    {
      "cell_type": "code",
      "source": [
        "# df_final.to_parquet('/content/drive/MyDrive/output/reviews2.parquet.gzip', compression='gzip')"
      ],
      "metadata": {
        "id": "eK4HrGutIE01"
      },
      "execution_count": 12,
      "outputs": []
    },
    {
      "cell_type": "code",
      "source": [
        "df_review_inicial = df_final[df_final['year'] < 2022]\n",
        "df_review_incremental = df_final[df_final['year']==2022]"
      ],
      "metadata": {
        "id": "RhVsFAwpKUiP"
      },
      "execution_count": 23,
      "outputs": []
    },
    {
      "cell_type": "code",
      "source": [
        "df_review_incremental.shape"
      ],
      "metadata": {
        "colab": {
          "base_uri": "https://localhost:8080/"
        },
        "id": "9RNi3Iz-BKY_",
        "outputId": "b3f874c2-bb57-4d76-fce4-c58a4bd67271"
      },
      "execution_count": 24,
      "outputs": [
        {
          "output_type": "execute_result",
          "data": {
            "text/plain": [
              "(26257, 6)"
            ]
          },
          "metadata": {},
          "execution_count": 24
        }
      ]
    },
    {
      "cell_type": "code",
      "source": [
        "df_review_inicial.shape"
      ],
      "metadata": {
        "colab": {
          "base_uri": "https://localhost:8080/"
        },
        "id": "3opJStbSncnI",
        "outputId": "98aa53ad-68c2-4920-a9ff-267f23aa1469"
      },
      "execution_count": 26,
      "outputs": [
        {
          "output_type": "execute_result",
          "data": {
            "text/plain": [
              "(6021799, 6)"
            ]
          },
          "metadata": {},
          "execution_count": 26
        }
      ]
    },
    {
      "cell_type": "code",
      "source": [
        "df_review_inicial.to_parquet('/content/drive/MyDrive/output/reviews_inicial.parquet.gzip', compression='gzip')\n",
        "df_review_incremental.to_parquet('/content/drive/MyDrive/output/reviews_incremental.parquet.gzip', compression='gzip')"
      ],
      "metadata": {
        "id": "JwognOWHnk_1"
      },
      "execution_count": 27,
      "outputs": []
    }
  ]
}