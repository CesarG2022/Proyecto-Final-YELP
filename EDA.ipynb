{
 "cells": [
  {
   "cell_type": "code",
   "execution_count": 1,
   "metadata": {},
   "outputs": [],
   "source": [
    "import pandas as pd"
   ]
  },
  {
   "cell_type": "code",
   "execution_count": 46,
   "metadata": {},
   "outputs": [],
   "source": [
    "size = 1000\n",
    "df_business = pd.read_json('./datasets/business.json', chunksize=size, lines=True)"
   ]
  },
  {
   "cell_type": "code",
   "execution_count": 49,
   "metadata": {},
   "outputs": [
    {
     "ename": "AttributeError",
     "evalue": "'JsonReader' object has no attribute 'columns'",
     "output_type": "error",
     "traceback": [
      "\u001b[1;31m---------------------------------------------------------------------------\u001b[0m",
      "\u001b[1;31mAttributeError\u001b[0m                            Traceback (most recent call last)",
      "\u001b[1;32mc:\\Users\\KhorneFlakes\\Documents\\henryData\\PF\\EDA.ipynb Cell 3\u001b[0m in \u001b[0;36m<cell line: 1>\u001b[1;34m()\u001b[0m\n\u001b[1;32m----> <a href='vscode-notebook-cell:/c%3A/Users/KhorneFlakes/Documents/henryData/PF/EDA.ipynb#X13sZmlsZQ%3D%3D?line=0'>1</a>\u001b[0m df_business\u001b[39m.\u001b[39;49mcolumns\n",
      "\u001b[1;31mAttributeError\u001b[0m: 'JsonReader' object has no attribute 'columns'"
     ]
    }
   ],
   "source": [
    "df_business.columns"
   ]
  },
  {
   "cell_type": "code",
   "execution_count": 23,
   "metadata": {},
   "outputs": [],
   "source": [
    "# df_checkin = pd.read_json('./datasets/checkin.json', lines=True)"
   ]
  },
  {
   "cell_type": "code",
   "execution_count": null,
   "metadata": {},
   "outputs": [],
   "source": [
    "# df_review = pd.read_json('./datasets/review.json', lines=True)\n",
    "# df_user = pd.read_json('./datasets/user.json', lines=True)"
   ]
  },
  {
   "cell_type": "code",
   "execution_count": 38,
   "metadata": {},
   "outputs": [
    {
     "ename": "TypeError",
     "evalue": "'JsonReader' object is not subscriptable",
     "output_type": "error",
     "traceback": [
      "\u001b[1;31m---------------------------------------------------------------------------\u001b[0m",
      "\u001b[1;31mTypeError\u001b[0m                                 Traceback (most recent call last)",
      "\u001b[1;32mc:\\Users\\KhorneFlakes\\Documents\\henryData\\PF\\EDA.ipynb Cell 5\u001b[0m in \u001b[0;36m<cell line: 1>\u001b[1;34m()\u001b[0m\n\u001b[1;32m----> <a href='vscode-notebook-cell:/c%3A/Users/KhorneFlakes/Documents/henryData/PF/EDA.ipynb#X10sZmlsZQ%3D%3D?line=0'>1</a>\u001b[0m df_business[\u001b[39m'\u001b[39;49m\u001b[39mcategories\u001b[39;49m\u001b[39m'\u001b[39;49m]\u001b[39m.\u001b[39misnull()\u001b[39m.\u001b[39msum()\n",
      "\u001b[1;31mTypeError\u001b[0m: 'JsonReader' object is not subscriptable"
     ]
    }
   ],
   "source": [
    "df_business['categories'].isnull().sum()"
   ]
  },
  {
   "cell_type": "code",
   "execution_count": 39,
   "metadata": {},
   "outputs": [
    {
     "ename": "AttributeError",
     "evalue": "'JsonReader' object has no attribute 'columns'",
     "output_type": "error",
     "traceback": [
      "\u001b[1;31m---------------------------------------------------------------------------\u001b[0m",
      "\u001b[1;31mAttributeError\u001b[0m                            Traceback (most recent call last)",
      "\u001b[1;32mc:\\Users\\KhorneFlakes\\Documents\\henryData\\PF\\EDA.ipynb Cell 6\u001b[0m in \u001b[0;36m<cell line: 3>\u001b[1;34m()\u001b[0m\n\u001b[0;32m      <a href='vscode-notebook-cell:/c%3A/Users/KhorneFlakes/Documents/henryData/PF/EDA.ipynb#X11sZmlsZQ%3D%3D?line=0'>1</a>\u001b[0m \u001b[39mimport\u001b[39;00m \u001b[39mcleaning_functions\u001b[39;00m \u001b[39mas\u001b[39;00m \u001b[39mcf\u001b[39;00m\n\u001b[1;32m----> <a href='vscode-notebook-cell:/c%3A/Users/KhorneFlakes/Documents/henryData/PF/EDA.ipynb#X11sZmlsZQ%3D%3D?line=2'>3</a>\u001b[0m cf\u001b[39m.\u001b[39;49mnull_validator(df_business)\n",
      "File \u001b[1;32mc:\\Users\\KhorneFlakes\\Documents\\henryData\\PF\\cleaning_functions.py:7\u001b[0m, in \u001b[0;36mnull_validator\u001b[1;34m(dataframe)\u001b[0m\n\u001b[0;32m      3\u001b[0m \u001b[39mdef\u001b[39;00m \u001b[39mnull_validator\u001b[39m(dataframe):\n\u001b[0;32m      4\u001b[0m     \u001b[39m'''\u001b[39;00m\n\u001b[0;32m      5\u001b[0m \u001b[39m    this function shows the null data of a dataframe and the percentage with respect to the number of rows\u001b[39;00m\n\u001b[0;32m      6\u001b[0m \u001b[39m    '''\u001b[39;00m\n\u001b[1;32m----> 7\u001b[0m     null_values \u001b[39m=\u001b[39m []\n\u001b[0;32m      8\u001b[0m     percentage \u001b[39m=\u001b[39m []\n\u001b[0;32m      9\u001b[0m     \u001b[39mfor\u001b[39;00m i \u001b[39min\u001b[39;00m dataframe\u001b[39m.\u001b[39mcolumns:\n",
      "\u001b[1;31mAttributeError\u001b[0m: 'JsonReader' object has no attribute 'columns'"
     ]
    }
   ],
   "source": [
    "import cleaning_functions as cf\n",
    "\n",
    "cf.null_validator(df_business)"
   ]
  },
  {
   "cell_type": "code",
   "execution_count": 36,
   "metadata": {},
   "outputs": [
    {
     "data": {
      "text/plain": [
       "Beauty & Spas, Nail Salons         1012\n",
       "Restaurants, Pizza                  935\n",
       "Nail Salons, Beauty & Spas          934\n",
       "Pizza, Restaurants                  823\n",
       "Restaurants, Mexican                728\n",
       "Restaurants, Chinese                708\n",
       "Mexican, Restaurants                672\n",
       "Chinese, Restaurants                651\n",
       "Food, Coffee & Tea                  508\n",
       "Beauty & Spas, Hair Salons          493\n",
       "Hair Salons, Beauty & Spas          480\n",
       "Coffee & Tea, Food                  473\n",
       "Automotive, Auto Repair             361\n",
       "Auto Repair, Automotive             351\n",
       "Grocery, Food                       329\n",
       "Italian, Restaurants                328\n",
       "Food, Grocery                       306\n",
       "Veterinarians, Pets                 300\n",
       "Ice Cream & Frozen Yogurt, Food     298\n",
       "Pets, Veterinarians                 285\n",
       "Name: categories, dtype: int64"
      ]
     },
     "execution_count": 36,
     "metadata": {},
     "output_type": "execute_result"
    }
   ],
   "source": [
    "df_business.categories.value_counts().head(20)"
   ]
  }
 ],
 "metadata": {
  "kernelspec": {
   "display_name": "Python 3.10.5 64-bit",
   "language": "python",
   "name": "python3"
  },
  "language_info": {
   "codemirror_mode": {
    "name": "ipython",
    "version": 3
   },
   "file_extension": ".py",
   "mimetype": "text/x-python",
   "name": "python",
   "nbconvert_exporter": "python",
   "pygments_lexer": "ipython3",
   "version": "3.10.5"
  },
  "orig_nbformat": 4,
  "vscode": {
   "interpreter": {
    "hash": "26de051ba29f2982a8de78e945f0abaf191376122a1563185a90213a26c5da77"
   }
  }
 },
 "nbformat": 4,
 "nbformat_minor": 2
}
